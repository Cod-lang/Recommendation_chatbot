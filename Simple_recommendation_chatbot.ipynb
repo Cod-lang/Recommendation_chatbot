{
  "nbformat": 4,
  "nbformat_minor": 0,
  "metadata": {
    "colab": {
      "name": "Simple_recommendation_chatbot.ipynb",
      "provenance": [],
      "collapsed_sections": [],
      "include_colab_link": true
    },
    "kernelspec": {
      "name": "python3",
      "display_name": "Python 3"
    },
    "language_info": {
      "name": "python"
    }
  },
  "cells": [
    {
      "cell_type": "markdown",
      "metadata": {
        "id": "view-in-github",
        "colab_type": "text"
      },
      "source": [
        "<a href=\"https://colab.research.google.com/github/Cod-lang/Recommendation_chatbot/blob/main/Simple_recommendation_chatbot.ipynb\" target=\"_parent\"><img src=\"https://colab.research.google.com/assets/colab-badge.svg\" alt=\"Open In Colab\"/></a>"
      ]
    },
    {
      "cell_type": "markdown",
      "metadata": {
        "id": "2A5Y0DkMoLyf"
      },
      "source": [
        "###**A Recommender Chatbot for Name-search and Phone-model search**"
      ]
    },
    {
      "cell_type": "code",
      "metadata": {
        "id": "OWJtE0ju2zFh",
        "colab": {
          "base_uri": "https://localhost:8080/"
        },
        "outputId": "10959bea-da5f-4f25-8117-de65e429372e"
      },
      "source": [
        "import sys\n",
        "import os\n",
        "import pandas as pd\n",
        "import numpy as np\n",
        "                                                          \n",
        "import nltk\n",
        "from nltk.corpus import stopwords\n",
        "from nltk.stem import WordNetLemmatizer\n",
        "from nltk.corpus import wordnet\n",
        "from nltk.tokenize import word_tokenize                                                              \n",
        "from nltk.tokenize import sent_tokenize                                                        \n",
        "nltk.download('punkt')\n",
        "nltk.download('stopwords')\n",
        "nltk.download('wordnet')\n",
        "lemmatizer = WordNetLemmatizer()\n",
        "sw = stopwords.words('english')\n",
        "w_tokenizer = nltk.tokenize.WhitespaceTokenizer()\n",
        "\n",
        "from sklearn.feature_extraction.text import CountVectorizer\n",
        "from sklearn.model_selection import train_test_split\n",
        "from sklearn.tree import DecisionTreeClassifier\n",
        "from sklearn.metrics import accuracy_score\n",
        "from sklearn.neighbors import KNeighborsClassifier\n"
      ],
      "execution_count": 4,
      "outputs": [
        {
          "output_type": "stream",
          "name": "stdout",
          "text": [
            "[nltk_data] Downloading package punkt to /root/nltk_data...\n",
            "[nltk_data]   Package punkt is already up-to-date!\n",
            "[nltk_data] Downloading package stopwords to /root/nltk_data...\n",
            "[nltk_data]   Package stopwords is already up-to-date!\n",
            "[nltk_data] Downloading package wordnet to /root/nltk_data...\n",
            "[nltk_data]   Package wordnet is already up-to-date!\n"
          ]
        }
      ]
    },
    {
      "cell_type": "code",
      "metadata": {
        "id": "SPIndGwt4B1u"
      },
      "source": [
        "\n",
        "## function to lemmatize and tokenize \n",
        "def lemmatize_text(text):\n",
        "    return [lemmatizer.lemmatize(w) for w in w_tokenizer.tokenize(text)]"
      ],
      "execution_count": 6,
      "outputs": []
    },
    {
      "cell_type": "code",
      "metadata": {
        "id": "1m79z_i0zjLy"
      },
      "source": [
        "# Functions for RECOMMENDATION BASED ON THE ENTITY VALUES\n",
        "\n",
        "# For NAME-SEARCHING\n",
        "\n",
        "def name_attr_info():\n",
        "    op_nm = pd.read_excel('finalnames.xlsx')\n",
        "    #print(op_nm.head(3))\n",
        "    print('The child is a boy or girl ?','\\n')\n",
        "    gen = input().lower()\n",
        "    if gen in op_nm.Gender.values :\n",
        "        catalog = op_nm.loc[op_nm['Gender'] == gen]\n",
        "    else:\n",
        "        print('Give correct option(boy/girl. ')\n",
        "    print('The Zodiac names : ', op_nm['Zodiac'].unique())\n",
        "    print('What is the Zodiac-sign ?', '\\n')\n",
        "    zodiac = input().capitalize()\n",
        "\n",
        "    if zodiac in op_nm['Zodiac'].values:\n",
        "        catalog = catalog.loc[catalog['Zodiac'] == zodiac]\n",
        "        print('Your options of month for given zodiac ', catalog['Month'].unique())\n",
        "    else:\n",
        "        print('Check your input. ')\n",
        "\n",
        "    print('What is the birth month ?','\\n')\n",
        "    month =input().capitalize()\n",
        "\n",
        "    if month in op_nm['Month'].values:\n",
        "        catalog = catalog.loc[catalog['Month'] == month]\n",
        "        print('You have choices for the first letter : ', catalog['First_letter'].unique())\n",
        "    else:\n",
        "        print('Check your input. ', '\\n', 'You have choices :', catalog['Month'].unique())\n",
        "\n",
        "    print('Which First-letter should the name start ?','\\n')\n",
        "   \n",
        "    first = input().lower()\n",
        "    if first in op_nm['First_letter'].values:\n",
        "        catalog = catalog.loc[catalog['First_letter'] == first]\n",
        "        match = catalog['Name'].unique()\n",
        "        print('Best choice for name : ')\n",
        "        print(match)\n",
        "    else:\n",
        "        print('Check your input. ', '\\n', 'You have choices :', catalog['First_letter'])\n",
        "\n",
        "# For PHONE-SEARCHING    \n",
        "\n",
        "def phone_attr_info():\n",
        "    op_ph = pd.read_excel('finalphones.xlsx')\n",
        "    #print(op_ph.head(3))\n",
        "    print('Which brand phone () ?','\\n')\n",
        "    print(op_ph.Brand.unique())\n",
        "    brand = input().capitalize()\n",
        "    if brand in op_ph.Brand.values :\n",
        "        catalog2 = op_ph.loc[op_ph['Brand'] == brand]\n",
        "    else:\n",
        "        print('Give correct option ')\n",
        "\n",
        "    print('Your options for camera : ', catalog2.Camera.unique())\n",
        "    print('What is the Camera(MP) ?', '\\n')\n",
        "    cam = int(input())\n",
        "\n",
        "    if cam in op_ph['Camera'].values:\n",
        "        catalog2 = catalog2.loc[catalog2['Camera'] == cam]\n",
        "    else:\n",
        "        print('Check your input. ')\n",
        "    \n",
        "    print('What is the Price ?','\\n')\n",
        "    price =int(input())\n",
        "    print('Your options for price : ', catalog2.Price.unique())\n",
        "    if price in op_ph['Price'].values:\n",
        "        catalog2 = catalog2.loc[catalog2['Price'] == price]\n",
        "    else:\n",
        "        print('Check your input. ')\n",
        "    print('You have choices of RAM ', catalog2['RAM'].unique())\n",
        "    print('How much RAM(GB) ?','\\n')\n",
        "    ram = int(input())\n",
        "\n",
        "    if ram in op_ph['RAM'].values:\n",
        "#        match2 = catalog2.loc[catalog2['RAM'] == ram].values\n",
        "        match2 = catalog2['Model'].unique()\n",
        "        print('The best choice for model of phone ')\n",
        "        print(match2)"
      ],
      "execution_count": 5,
      "outputs": []
    },
    {
      "cell_type": "code",
      "metadata": {
        "id": "HR47Ohxk5NJV",
        "colab": {
          "base_uri": "https://localhost:8080/"
        },
        "outputId": "12641a23-482e-4891-91f4-8a9a9baaf49d"
      },
      "source": [
        "  #LOAD THE COMBINED UTTERANCES CSV FILE\n",
        "\n",
        "df  = pd.read_csv('all_intents.csv')\n",
        "df.drop(['Unnamed: 0'], axis = 1, inplace =True)\n",
        "\n",
        " #GET CLEANED SENTENCE AND ADD TO NEW COLUMN 'Utterences_cleaned'   \n",
        "\n",
        "df['Utterences_cleaned'] = df.Intent.apply(lemmatize_text)                 ## tokenizing and lemmatizing the sentences \n",
        "df['Utterences_cleaned'] = df['Utterences_cleaned'].apply(lambda x: [item for item in x if item not in sw])    ## remove stop words\n",
        "  \n",
        "  #PREPARE THE FEATURES 'X'\n",
        "\n",
        "  X = df['Utterences_cleaned']                              # featureset\n",
        "\n",
        "  #PREPARE THE LABEL 'y'\n",
        "\n",
        "  y = df['Intent class']                       # target\n",
        "\n",
        "  #IMPLEMENT WORD EMBEDDING \n",
        "\n",
        "X =X.apply(lambda x: \" \".join(x) )\n",
        "count_vec = CountVectorizer()\n",
        "vec_df = pd.DataFrame(count_vec.fit_transform(X).toarray(), columns =count_vec.get_feature_names() )\n",
        "X = vec_df\n",
        "X_train, X_test, y_train, y_test = train_test_split(X, y, test_size=0.30, random_state=167)\n",
        "\n",
        "  #CHOOSE THE CLASSIFICATION MODEL\n",
        " \n",
        "knn = KNeighborsClassifier(n_neighbors=3)\n",
        "  \n",
        "  #TRAIN THE MODEL ON TRAIN DATA\n",
        "\n",
        "knn.fit(X_train, y_train)\n",
        "  \n",
        "  #PREDICT THE MODEL ON TEST DATA\n",
        "\n",
        "y_kn = knn.predict(X_test)\n",
        "  \n",
        "knn_accuracy = accuracy_score(y_kn, y_test)\n",
        "\n",
        "cor = input('How this bot can assist you ?  ::  ')\n",
        "cor_cl = lemmatize_text(cor)\n",
        "cor_cl = [w for w in cor_cl if w not in sw]\n",
        "\n",
        "df_cor = pd.DataFrame(count_vec.transform(cor_cl).toarray(), columns = count_vec.get_feature_names())\n",
        "\n",
        "  #PREDICT THE INTENT\n",
        "\n",
        "int_predict = knn.predict(df_cor)               # predict the user intention from utterance\n",
        "int_proba = knn.predict_proba(df_cor)   # probability prediction from decision tree model\n",
        "\n",
        "x1 = np.sum(int_proba, axis = 0)                  # sum probability for wrt class/column\n",
        "x1 = list(x1)                                                              # make a list\n",
        "\n",
        "input_dict = {'name': x1[0], 'phone': x1[1]}\n",
        "Search_intent = max(input_dict, key=input_dict.get)                   # get the intent based on probability score\n",
        "print('The classified intent : ', Search_intent)\n",
        "\n",
        "if Search_intent=='name':\n",
        "#    print('The Best match found is ', '\\n')\n",
        "    name_attr_info()                                                        # calling the name-searcing function\n",
        "\n",
        "elif Search_intent=='phone':\n",
        "    phone_attr_info()                                                      # calling the phone searching function"
      ],
      "execution_count": 7,
      "outputs": [
        {
          "output_type": "stream",
          "name": "stdout",
          "text": [
            "How this bot can assist you ?  ::  suggest name\n",
            "The classified intent :  name\n",
            "The child is a boy or girl ? \n",
            "\n",
            "girl\n",
            "The Zodiac names :  ['Aries' 'Taurus' 'Gemini' 'Cancer' 'Leo' 'Virgo' 'Libra' 'Scorpius'\n",
            " 'Sagittarius' 'Capricornus' 'Aquarius' 'Pisces']\n",
            "What is the Zodiac-sign ? \n",
            "\n",
            "virgo\n",
            "Your options of month for given zodiac  ['August' 'September']\n",
            "What is the birth month ? \n",
            "\n",
            "august\n",
            "You have choices for the first letter :  ['to' 'pa']\n",
            "Which First-letter should the name start ? \n",
            "\n",
            "to\n",
            "Best choice for name : \n",
            "['Toshini']\n"
          ]
        }
      ]
    },
    {
      "cell_type": "markdown",
      "metadata": {
        "id": "GwK_Ww_b_Q2o"
      },
      "source": [
        "### **Test Name-Search case only**"
      ]
    },
    {
      "cell_type": "code",
      "metadata": {
        "id": "knLGA8t6Lk80",
        "colab": {
          "base_uri": "https://localhost:8080/"
        },
        "outputId": "f966fa2d-a2db-4e44-8bd3-f7511bd7096a"
      },
      "source": [
        "    op_nm = pd.read_excel('finalnames.xlsx')\n",
        "    #print(op_nm.head(3))\n",
        "    print('The child is a boy or girl ?','\\n')\n",
        "    gen = input().lower()\n",
        "    if gen in op_nm.Gender.values :\n",
        "        catalog = op_nm.loc[op_nm['Gender'] == gen]\n",
        "    else:\n",
        "        print('Give correct option(boy/girl. ')\n",
        "    \n",
        "    print('What is the Zodiac-sign ?', '\\n')\n",
        "    zodiac = input().capitalize()\n",
        "\n",
        "    if zodiac in op_nm['Zodiac'].values:\n",
        "        catalog = catalog.loc[catalog['Zodiac'] == zodiac]\n",
        "        print('Your options of month for given zodiac ', catalog['Month'].unique())\n",
        "    else:\n",
        "        print('Check your input. ')\n",
        "\n",
        "    print('What is the birth month ?','\\n')\n",
        "    month =input().capitalize()\n",
        "\n",
        "    if month in op_nm['Month'].values:\n",
        "        catalog = catalog.loc[catalog['Month'] == month]\n",
        "        print('You have choices : ', catalog['First_letter'].unique())\n",
        "    else:\n",
        "        print('Check your input. ', '\\n', 'You have choices :', catalog['Month'].unique())\n",
        "\n",
        "    print('Which First-letter should the name start ?','\\n')\n",
        "    first = input().lower()\n",
        "\n",
        "    if first in op_nm['First_letter'].values:\n",
        "        catalog = catalog.loc[catalog['First_letter'] == first]\n",
        "        match = catalog['Name'].unique()\n",
        "        print('Best choice for name : ')\n",
        "        print(match)\n",
        "    else:\n",
        "        print('Check your input. ', '\\n', 'You have choices :', catalog['First_letter'])"
      ],
      "execution_count": 8,
      "outputs": [
        {
          "output_type": "stream",
          "name": "stdout",
          "text": [
            "The child is a boy or girl ? \n",
            "\n",
            "boy\n",
            "What is the Zodiac-sign ? \n",
            "\n",
            "aquarius\n",
            "Your options of month for given zodiac  ['January' 'February']\n",
            "What is the birth month ? \n",
            "\n",
            "february\n",
            "You have choices :  ['ge' 'go' 'da']\n",
            "Which First-letter should the name start ? \n",
            "\n",
            "ge\n",
            "Best choice for name : \n",
            "['Gera']\n"
          ]
        }
      ]
    },
    {
      "cell_type": "markdown",
      "metadata": {
        "id": "9Q5CUCQf08oB"
      },
      "source": [
        "### **Test Phone-Search case only**"
      ]
    },
    {
      "cell_type": "code",
      "metadata": {
        "colab": {
          "base_uri": "https://localhost:8080/"
        },
        "id": "0-zcXbYcPCdN",
        "outputId": "453f2631-649f-4506-ebf1-1fb576b080fb"
      },
      "source": [
        "    op_ph = pd.read_excel('finalphones.xlsx')\n",
        "    #print(op_ph.head(3))\n",
        "    print('Which brand phone () ?','\\n')\n",
        "    print(op_ph.Brand.unique())\n",
        "    brand = input().capitalize()\n",
        "    if brand in op_ph.Brand.values :\n",
        "        catalog2 = op_ph.loc[op_ph['Brand'] == brand]\n",
        "    else:\n",
        "        print('Give correct option ')\n",
        "\n",
        "    print('Your options for camera : ', catalog2.Camera.unique())\n",
        "    print('What is the Camera(MP) ?', '\\n')\n",
        "    cam = int(input())\n",
        "\n",
        "    if cam in op_ph['Camera'].values:\n",
        "        catalog2 = catalog2.loc[catalog2['Camera'] == cam]\n",
        "    else:\n",
        "        print('Check your input. ')\n",
        "    \n",
        "    print('What is the Price ?','\\n')\n",
        "    print('Your options for price : ', catalog2.Price.unique())\n",
        "    price =int(input())\n",
        "\n",
        "    if price in op_ph['Price'].values:\n",
        "        catalog2 = catalog2.loc[catalog2['Price'] == price]\n",
        "    else:\n",
        "        print('Check your input. ')\n",
        "    print('You have choices of RAM ', catalog2['RAM'].unique())\n",
        "    print('How much RAM(GB) ?','\\n')\n",
        "    ram = int(input())\n",
        "\n",
        "    if ram in op_ph['RAM'].values:\n",
        "        #catalog = catalog.loc[catalog['First_letter'] == first]\n",
        "        #match = catalog['Output'].unique()\n",
        "        match2 = catalog2.loc[catalog2['RAM'] == ram].values\n",
        "        print('The best choice for model of phone ')\n",
        "        print(match2)"
      ],
      "execution_count": 9,
      "outputs": [
        {
          "output_type": "stream",
          "name": "stdout",
          "text": [
            "Which brand phone () ? \n",
            "\n",
            "['Apple' 'Samsung' 'Xiaomi' 'Realme' 'Oneplus' 'Google']\n",
            "google\n",
            "Your options for camera :  [12 16]\n",
            "What is the Camera(MP) ? \n",
            "\n",
            "16\n",
            "What is the Price ? \n",
            "\n",
            "Your options for price :  [54990]\n",
            "54990\n",
            "You have choices of RAM  [6]\n",
            "How much RAM(GB) ? \n",
            "\n",
            "6\n",
            "The best choice for model of phone \n",
            "[['Google' 16 54990 6 'Pixel 4']]\n"
          ]
        }
      ]
    },
    {
      "cell_type": "code",
      "metadata": {
        "id": "8dJuT3dg5Urj"
      },
      "source": [
        ""
      ],
      "execution_count": null,
      "outputs": []
    }
  ]
}